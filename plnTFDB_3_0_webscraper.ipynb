{
  "nbformat": 4,
  "nbformat_minor": 0,
  "metadata": {
    "colab": {
      "name": "plnTFDB-3.0-webscraper.ipynb",
      "provenance": [],
      "authorship_tag": "ABX9TyOUYN0HnXLMBO/aG1MwW8vx",
      "include_colab_link": true
    },
    "kernelspec": {
      "name": "python3",
      "display_name": "Python 3"
    }
  },
  "cells": [
    {
      "cell_type": "markdown",
      "metadata": {
        "id": "view-in-github",
        "colab_type": "text"
      },
      "source": [
        "<a href=\"https://colab.research.google.com/github/namhsuya/plntfdb3_webscraper/blob/master/plnTFDB_3_0_webscraper.ipynb\" target=\"_parent\"><img src=\"https://colab.research.google.com/assets/colab-badge.svg\" alt=\"Open In Colab\"/></a>"
      ]
    },
    {
      "cell_type": "code",
      "metadata": {
        "id": "vhK4SC1OetkI",
        "colab_type": "code",
        "colab": {}
      },
      "source": [
        "# Installing webscraping libraries\n",
        "!pip install bs4\n",
        "!pip install selenium"
      ],
      "execution_count": null,
      "outputs": []
    },
    {
      "cell_type": "code",
      "metadata": {
        "id": "4nDvH-MSHwN4",
        "colab_type": "code",
        "colab": {}
      },
      "source": [
        "# important libraries\n",
        "from selenium import webdriver\n",
        "from bs4 import BeautifulSoup\n",
        "import pandas as pd"
      ],
      "execution_count": null,
      "outputs": []
    },
    {
      "cell_type": "code",
      "metadata": {
        "id": "1QHS8jn0IdUc",
        "colab_type": "code",
        "colab": {}
      },
      "source": [
        "# Setting Chrome webdriver\n",
        "!apt-get update # to update ubuntu to correctly run apt install\n",
        "!apt install chromium-chromedriver\n",
        "!cp /usr/lib/chromium-browser/chromedriver /usr/bin\n",
        "import sys\n",
        "sys.path.insert(0,'/usr/lib/chromium-browser/chromedriver')\n",
        "from selenium import webdriver\n",
        "chrome_options = webdriver.ChromeOptions()\n",
        "chrome_options.add_argument('--headless')\n",
        "chrome_options.add_argument('--no-sandbox')\n",
        "chrome_options.add_argument('--disable-dev-shm-usage')\n",
        "driver = webdriver.Chrome('chromedriver',chrome_options=chrome_options)"
      ],
      "execution_count": null,
      "outputs": []
    },
    {
      "cell_type": "code",
      "metadata": {
        "id": "BLID0wjjLDhc",
        "colab_type": "code",
        "colab": {}
      },
      "source": [
        "# Transcription factor families(tff) as extracted from plTFDB3.0 website\n",
        "tff=[\"ABI3VP1\",\n",
        "\"C3H\",\"HRT\",\"S1Fa-like\",\"Alfin-like\",\"CAMTA\",\"HSF\",\"SBP\",\"AP2-EREBP\",\"CCAAT\",\"LFY\",\"Sigma70-like\",\"ARF\",\n",
        "\"CPP\",\"LIM\",\"SRS\",\"ARR-B\",\"CSD\",\"LOB\",\"TAZ\",\"BBR/BPC\",\"DBP\",\"MADS\",\"TCP\",\"BES1\",\"E2F-DP\",\"mTERF\",\"Tify\",\n",
        "\"bHLH\",\"EIL\",\"MYB\",\"Trihelix\",\"BSD\",\"FAR1\",\"MYB-related\",\"TUB\",\"bZIP\",\"FHA\",\"NAC\",\"ULT\",\"C2C2-CO-like\",\"G2-like\",\n",
        "\"OFP\",\"VOZ\",\"C2C2-Dof\",\"GeBP\",\"Orphans\",\"WRKY\",\"C2C2-GATA\",\"GRAS\",\"PBF-2-like\",\"zf-HD\",\"C2C2-YABBY\",\"GRF\",\n",
        "\"PLATZ\",\"C2H2\",\"HB\",\"RWP-RK\",\"ARID\",\"IWS1\",\"PHD\",\"SOH1\",\"AUX/IAA\",\"Jumonji\",\"Pseudo ARR-B\",\"SWI/SNF-BAF60b\",\n",
        "\"Coactivator p15\",\"LUG\",\"RB\",\"SWI/SNF-SWI3\",\"DDT\",\"MBF1\",\"Rcd1-like\",\"TRAF\",\"GNAT\",\"MED6\",\"SET\",\"HMG\",\"MED7\",\"SNF2\"]"
      ],
      "execution_count": null,
      "outputs": []
    },
    {
      "cell_type": "code",
      "metadata": {
        "id": "79E5cS7kf-5q",
        "colab_type": "code",
        "colab": {}
      },
      "source": [
        "DATA=[]\n",
        "for tf in tff:\n",
        "  tff_base_url='http://plntfdb.bio.uni-potsdam.de/v3.0/fam_mem.php?family_id='+tf+'&sp_id=OSAJ'\n",
        "\n",
        "  driver.get(tff_base_url)\n",
        "  ele = driver.find_elements_by_xpath(\"//table[@class='details']/tbody/tr\")\n",
        "  for e in ele:\n",
        "    row=e.find_elements_by_xpath(\".//td\")\n",
        "    if len(row)>0:\n",
        "      DATA.append([tf, row[1].text,row[2].text,row[3].text])"
      ],
      "execution_count": null,
      "outputs": []
    },
    {
      "cell_type": "code",
      "metadata": {
        "id": "9p6hYfMzuOge",
        "colab_type": "code",
        "colab": {}
      },
      "source": [
        "tffDF=pd.DataFrame(TFF_DATA, columns=['family','tf','description','domain'])"
      ],
      "execution_count": null,
      "outputs": []
    },
    {
      "cell_type": "code",
      "metadata": {
        "id": "a4tWy9ELxYpO",
        "colab_type": "code",
        "colab": {}
      },
      "source": [
        "tffDF.to_csv('plnTFDB3_Oryza_sativa.txt',sep='\\t',index=False)"
      ],
      "execution_count": null,
      "outputs": []
    },
    {
      "cell_type": "code",
      "metadata": {
        "id": "J12AFSMkShb2",
        "colab_type": "code",
        "colab": {
          "base_uri": "https://localhost:8080/",
          "height": 202
        },
        "outputId": "c1ac3580-66ce-41bd-d214-3a9fc45a33b2"
      },
      "source": [
        "tffDF.head()"
      ],
      "execution_count": null,
      "outputs": [
        {
          "output_type": "execute_result",
          "data": {
            "text/html": [
              "<div>\n",
              "<style scoped>\n",
              "    .dataframe tbody tr th:only-of-type {\n",
              "        vertical-align: middle;\n",
              "    }\n",
              "\n",
              "    .dataframe tbody tr th {\n",
              "        vertical-align: top;\n",
              "    }\n",
              "\n",
              "    .dataframe thead th {\n",
              "        text-align: right;\n",
              "    }\n",
              "</style>\n",
              "<table border=\"1\" class=\"dataframe\">\n",
              "  <thead>\n",
              "    <tr style=\"text-align: right;\">\n",
              "      <th></th>\n",
              "      <th>family</th>\n",
              "      <th>tf</th>\n",
              "      <th>description</th>\n",
              "      <th>domain</th>\n",
              "    </tr>\n",
              "  </thead>\n",
              "  <tbody>\n",
              "    <tr>\n",
              "      <th>0</th>\n",
              "      <td>ABI3VP1</td>\n",
              "      <td>LOC_Os01g13300.1</td>\n",
              "      <td>B3 DNA binding domain containing protein, expr...</td>\n",
              "      <td>AT_hook B3</td>\n",
              "    </tr>\n",
              "    <tr>\n",
              "      <th>1</th>\n",
              "      <td>ABI3VP1</td>\n",
              "      <td>LOC_Os01g51610.1</td>\n",
              "      <td>B3 DNA binding domain containing protein, expr...</td>\n",
              "      <td>B3</td>\n",
              "    </tr>\n",
              "    <tr>\n",
              "      <th>2</th>\n",
              "      <td>ABI3VP1</td>\n",
              "      <td>LOC_Os01g52514.1</td>\n",
              "      <td>B3 DNA binding domain containing protein, expr...</td>\n",
              "      <td>B3</td>\n",
              "    </tr>\n",
              "    <tr>\n",
              "      <th>3</th>\n",
              "      <td>ABI3VP1</td>\n",
              "      <td>LOC_Os01g52540.1</td>\n",
              "      <td>B3 DNA binding domain containing protein, expr...</td>\n",
              "      <td>B3</td>\n",
              "    </tr>\n",
              "    <tr>\n",
              "      <th>4</th>\n",
              "      <td>ABI3VP1</td>\n",
              "      <td>LOC_Os01g67830.1</td>\n",
              "      <td>B3 DNA binding domain containing protein, expr...</td>\n",
              "      <td>B3</td>\n",
              "    </tr>\n",
              "  </tbody>\n",
              "</table>\n",
              "</div>"
            ],
            "text/plain": [
              "    family  ...      domain\n",
              "0  ABI3VP1  ...  AT_hook B3\n",
              "1  ABI3VP1  ...          B3\n",
              "2  ABI3VP1  ...          B3\n",
              "3  ABI3VP1  ...          B3\n",
              "4  ABI3VP1  ...          B3\n",
              "\n",
              "[5 rows x 4 columns]"
            ]
          },
          "metadata": {
            "tags": []
          },
          "execution_count": 4
        }
      ]
    }
  ]
}